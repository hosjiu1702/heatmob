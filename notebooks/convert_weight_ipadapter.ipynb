{
 "cells": [
  {
   "cell_type": "code",
   "execution_count": 1,
   "id": "adaf7450-9346-4f0a-abf5-e2ee24e8a93d",
   "metadata": {},
   "outputs": [],
   "source": [
    "import os\n",
    "import torch\n",
    "from safetensors.torch import load_file\n",
    "\n",
    "base_path = '/workspace/playground/opensources/IP-Adapter/models/cloth_ip_adapter/resampler/clip/checkpoint-90000/'\n",
    "# base_path = '/workspace/playground/IP-Adapter-finetuned-VITONHD/checkpoint-25000-bs16/'\n",
    "ckpt = os.path.join(base_path, 'pytorch_model.bin')\n",
    "# sd = load_file(ckpt, device=\"cpu\")\n",
    "sd = torch.load(ckpt, map_location='cpu')\n",
    "image_proj_sd = {}\n",
    "ip_sd = {}\n",
    "for k in sd:\n",
    "    if k.startswith(\"unet\"):\n",
    "        pass\n",
    "    elif k.startswith(\"image_proj_model\"):\n",
    "        image_proj_sd[k.replace(\"image_proj_model.\", \"\")] = sd[k]\n",
    "    elif k.startswith(\"adapter_modules\"):\n",
    "        ip_sd[k.replace(\"adapter_modules.\", \"\")] = sd[k]\n",
    "\n",
    "torch.save(\n",
    "    {\"image_proj\": image_proj_sd, \"ip_adapter\": ip_sd}, \n",
    "    os.path.join(base_path, 'ip_adapter.bin')\n",
    ")"
   ]
  }
 ],
 "metadata": {
  "kernelspec": {
   "display_name": "dev venv",
   "language": "python",
   "name": "dev-venv"
  },
  "language_info": {
   "codemirror_mode": {
    "name": "ipython",
    "version": 3
   },
   "file_extension": ".py",
   "mimetype": "text/x-python",
   "name": "python",
   "nbconvert_exporter": "python",
   "pygments_lexer": "ipython3",
   "version": "3.10.9"
  }
 },
 "nbformat": 4,
 "nbformat_minor": 5
}
