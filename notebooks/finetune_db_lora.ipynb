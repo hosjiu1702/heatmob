{
 "cells": [
  {
   "cell_type": "code",
   "execution_count": null,
   "id": "c237ef04-85ec-415f-b652-414f9d7f7303",
   "metadata": {},
   "outputs": [],
   "source": [
    "MODEL_NAME=\"runwayml/stable-diffusion-v1-5\"\n",
    "INSTANCE_DIR=\"../data\"\n",
    "OUTPUT_DIR=\"../models/finetuned_db_lora\"\n",
    "\n",
    "accelerate launch train_dreambooth.py \\\n",
    "  --pretrained_model_name_or_path=MODEL_NAME  \\\n",
    "  --instance_data_dir=INSTANCE_DIR \\\n",
    "  --output_dir=OUTPUT_DIR \\\n",
    "  --instance_prompt=\"a photo of sks dog\" \\\n",
    "  --resolution=512 \\\n",
    "  --train_batch_size=1 \\\n",
    "  --gradient_accumulation_steps=1 \\\n",
    "  --learning_rate=5e-6 \\\n",
    "  --lr_scheduler=\"constant\" \\\n",
    "  --lr_warmup_steps=0 \\\n",
    "  --max_train_steps=400 \\"
   ]
  }
 ],
 "metadata": {
  "kernelspec": {
   "display_name": "hosjiu",
   "language": "python",
   "name": "hosjiu"
  },
  "language_info": {
   "codemirror_mode": {
    "name": "ipython",
    "version": 3
   },
   "file_extension": ".py",
   "mimetype": "text/x-python",
   "name": "python",
   "nbconvert_exporter": "python",
   "pygments_lexer": "ipython3",
   "version": "3.10.9"
  }
 },
 "nbformat": 4,
 "nbformat_minor": 5
}
