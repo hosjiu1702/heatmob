{
 "cells": [
  {
   "cell_type": "code",
   "execution_count": 1,
   "id": "4017ddc8-3467-49ad-9a3a-134565b35831",
   "metadata": {},
   "outputs": [],
   "source": [
    "import torch.nn as nn\n",
    "import torch.nn.functional as F\n",
    "\n",
    "\n",
    "class Net(nn.Module):\n",
    "    def __init__(self):\n",
    "        super().__init__()\n",
    "        self.conv1 = nn.Conv2d(3, 6, 5)\n",
    "        self.pool = nn.MaxPool2d(2, 2)\n",
    "        self.conv2 = nn.Conv2d(6, 16, 5)\n",
    "        self.fc1 = nn.Linear(16 * 5 * 5, 120)\n",
    "        self.fc2 = nn.Linear(120, 84)\n",
    "        self.fc3 = nn.Linear(84, 10)\n",
    "\n",
    "    def forward(self, x):\n",
    "        x = self.pool(F.relu(self.conv1(x)))\n",
    "        x = self.pool(F.relu(self.conv2(x)))\n",
    "        x = torch.flatten(x, 1) # flatten all dimensions except batch\n",
    "        x = F.relu(self.fc1(x))\n",
    "        x = F.relu(self.fc2(x))\n",
    "        x = self.fc3(x)\n",
    "        return x\n",
    "\n",
    "\n",
    "net = Net()"
   ]
  },
  {
   "cell_type": "code",
   "execution_count": 3,
   "id": "ddaaefe9-47ff-4ea8-a1c6-0b90c2a82c61",
   "metadata": {},
   "outputs": [
    {
     "data": {
      "text/plain": [
       "odict_keys(['conv1.weight', 'conv1.bias', 'conv2.weight', 'conv2.bias', 'fc1.weight', 'fc1.bias', 'fc2.weight', 'fc2.bias', 'fc3.weight', 'fc3.bias'])"
      ]
     },
     "execution_count": 3,
     "metadata": {},
     "output_type": "execute_result"
    }
   ],
   "source": [
    "net.state_dict().keys()"
   ]
  },
  {
   "cell_type": "code",
   "execution_count": 5,
   "id": "c749b3be-7670-4991-b90e-0699e8c225a4",
   "metadata": {},
   "outputs": [
    {
     "name": "stdout",
     "output_type": "stream",
     "text": [
      "conv1.weight:\ttorch.Size([6, 3, 5, 5])\n",
      "conv1.bias:\ttorch.Size([6])\n",
      "conv2.weight:\ttorch.Size([16, 6, 5, 5])\n",
      "conv2.bias:\ttorch.Size([16])\n",
      "fc1.weight:\ttorch.Size([120, 400])\n",
      "fc1.bias:\ttorch.Size([120])\n",
      "fc2.weight:\ttorch.Size([84, 120])\n",
      "fc2.bias:\ttorch.Size([84])\n",
      "fc3.weight:\ttorch.Size([10, 84])\n",
      "fc3.bias:\ttorch.Size([10])\n"
     ]
    }
   ],
   "source": [
    "for layer, tensor in net.state_dict().items():\n",
    "    print(f'{layer}:\\t{tensor.size()}')"
   ]
  }
 ],
 "metadata": {
  "kernelspec": {
   "display_name": "dev venv",
   "language": "python",
   "name": "dev-venv"
  },
  "language_info": {
   "codemirror_mode": {
    "name": "ipython",
    "version": 3
   },
   "file_extension": ".py",
   "mimetype": "text/x-python",
   "name": "python",
   "nbconvert_exporter": "python",
   "pygments_lexer": "ipython3",
   "version": "3.10.9"
  }
 },
 "nbformat": 4,
 "nbformat_minor": 5
}
